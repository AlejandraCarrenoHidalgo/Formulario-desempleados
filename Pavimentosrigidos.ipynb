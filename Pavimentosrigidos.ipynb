{
  "nbformat": 4,
  "nbformat_minor": 0,
  "metadata": {
    "colab": {
      "name": "Pavimentosrigidos.ipynb",
      "provenance": [],
      "collapsed_sections": [],
      "include_colab_link": true
    },
    "kernelspec": {
      "name": "python3",
      "display_name": "Python 3"
    }
  },
  "cells": [
    {
      "cell_type": "markdown",
      "metadata": {
        "id": "view-in-github",
        "colab_type": "text"
      },
      "source": [
        "<a href=\"https://colab.research.google.com/github/AlejandraCarrenoHidalgo/Formulario-desempleados/blob/master/Pavimentosrigidos.ipynb\" target=\"_parent\"><img src=\"https://colab.research.google.com/assets/colab-badge.svg\" alt=\"Open In Colab\"/></a>"
      ]
    },
    {
      "cell_type": "code",
      "metadata": {
        "id": "oMtB8yXyK_Ww"
      },
      "source": [
        "# A continuacion se hace un recuento de la norma AASHTO 1993 para el diseño de pavimentos rigidos.\n",
        "\n",
        "#La primera variable a considerar es el modulo resiliente de la subrasante Mr, el cual puede ser calculado de diferentes maneras segun la norma, en funcion de otras variables que afectan el comportamiento del suelo al tomarse la muestra para determinar el modulo en el laboratorio.\n",
        "#La segunda variable a consideras es el modulo resiliente de la sub base Esb, el cual es un dato que el usuario lo debe conocer por ensayos de laboratorio\n",
        "#El tercer dato importante es el espesor de la sub base\n",
        "#Estimar el valor de k por efecto combinado de subrasante y subbase para suponiendo que la subrasante tiene espesor infinito para ello se hace uso de la tabla 1\n",
        "# Se puede empezar a dar valores posibles del espesor de la losa requerida y se determina el daño relativo (Uf) en terminos de K. Para este paso usar la tabla 2, sin embargo se sugiere comparar el K de la tabla con el K producto de aplicar la formula que se da de K en funci'on de Mr\n",
        "# A este valor de Uf hallado en el paso anterior lo llamaremos K efectivo y este K efectivo debe ajustarse debido a la perdida de soporte de la subbase LS. Este procedimiento se realiza usando la tabla 3\n",
        "#El K estimado en el paso anterior es el K que se usa para el diseño de pavimentos rigidos\n",
        "# es importante anotar que se han dado algunas formulas para hallar K en terminos de otras variables y que en este trabajo se sugieren las ecuaciones para que el usuario mire valores analiticos y los pueda comparar con los K de las graficas"
      ],
      "execution_count": null,
      "outputs": []
    },
    {
      "cell_type": "code",
      "metadata": {
        "id": "IysUungcLaMD"
      },
      "source": [
        "#A continuacion se dan las diferentes maneras de calcular Mr, incluso a partir de un CBR dado, tambien se da el valor de daño relativo (Uf) a partir de Mr"
      ],
      "execution_count": null,
      "outputs": []
    },
    {
      "cell_type": "code",
      "metadata": {
        "id": "gtE8wfP_LgaJ",
        "colab": {
          "base_uri": "https://localhost:8080/",
          "height": 68
        },
        "outputId": "efd599c9-f58c-4c91-f8b1-0f5270471090"
      },
      "source": [
        "# mr: Modulo resiliente subrasante\n",
        "# sd: Esfuerzo desviador repetitivo\n",
        "# er: deformacion resiliente\n",
        "\n",
        "sd = float(input('Ingrese el esfuerzo desviador repetitivo: '))\n",
        "er = float(input('Ingrese deformacion resiliente:'))\n",
        "\n",
        "mr = sd/er\n",
        "mr"
      ],
      "execution_count": null,
      "outputs": [
        {
          "output_type": "stream",
          "text": [
            "Ingrese el esfuerzo desviador repetitivo: 3\n",
            "Ingrese deformacion resiliente:2\n"
          ],
          "name": "stdout"
        },
        {
          "output_type": "execute_result",
          "data": {
            "text/plain": [
              "1.5"
            ]
          },
          "metadata": {
            "tags": []
          },
          "execution_count": 1
        }
      ]
    },
    {
      "cell_type": "code",
      "metadata": {
        "id": "II0Tp1TbLl4q",
        "colab": {
          "base_uri": "https://localhost:8080/",
          "height": 85
        },
        "outputId": "93d00d0b-4ad0-430b-9683-4b1722abdeec"
      },
      "source": [
        "# mr: Modulo resiliente subrasante\n",
        "# o3: Tension volumetrica\n",
        "# k1, k2: Constantes del material\n",
        "\n",
        "o3 = float(input('Ingrese la tension volumetrica: '))\n",
        "k1 = float(input('Ingrese la constante 1 del material: '))\n",
        "k2 = float(input('Ingrese la onstantes 2 del material: '))\n",
        "\n",
        "\n",
        "mr = k1*(o3)**k2\n",
        "mr"
      ],
      "execution_count": null,
      "outputs": [
        {
          "output_type": "stream",
          "text": [
            "Ingrese la tension volumetrica: 3\n",
            "Ingrese la constante 1 del material: 5\n",
            "Ingrese la onstantes 2 del material: 7\n"
          ],
          "name": "stdout"
        },
        {
          "output_type": "execute_result",
          "data": {
            "text/plain": [
              "10935.0"
            ]
          },
          "metadata": {
            "tags": []
          },
          "execution_count": 2
        }
      ]
    },
    {
      "cell_type": "code",
      "metadata": {
        "id": "hC8AJO7vL-sR",
        "colab": {
          "base_uri": "https://localhost:8080/",
          "height": 51
        },
        "outputId": "b8bff650-e5db-4010-b855-8eaf47c28691"
      },
      "source": [
        "# mr: Modulo resiliente subrasante\n",
        "# w = Humedad volumetrica, en %\n",
        "\n",
        "w = float(input('Ingrese la humedad volumetrica, en %: '))\n",
        "\n",
        "mr = 27.06 - 0.526*w\n",
        "mr"
      ],
      "execution_count": null,
      "outputs": [
        {
          "output_type": "stream",
          "text": [
            "Ingrese la humedad volumetrica, en %: 30\n"
          ],
          "name": "stdout"
        },
        {
          "output_type": "execute_result",
          "data": {
            "text/plain": [
              "11.279999999999998"
            ]
          },
          "metadata": {
            "tags": []
          },
          "execution_count": 3
        }
      ]
    },
    {
      "cell_type": "code",
      "metadata": {
        "id": "lmozNMKCMF9e",
        "colab": {
          "base_uri": "https://localhost:8080/",
          "height": 51
        },
        "outputId": "7d98d470-c2dc-41c5-9404-12c87336e516"
      },
      "source": [
        "# mr : modulo resiliente\n",
        "cbr = float(input('Ingrese el cbr: '))\n",
        "b = 1500\n",
        "mr = b*cbr\n",
        "mr"
      ],
      "execution_count": null,
      "outputs": [
        {
          "output_type": "stream",
          "text": [
            "Ingrese el cbr: 5\n"
          ],
          "name": "stdout"
        },
        {
          "output_type": "execute_result",
          "data": {
            "text/plain": [
              "7500.0"
            ]
          },
          "metadata": {
            "tags": []
          },
          "execution_count": 4
        }
      ]
    },
    {
      "cell_type": "code",
      "metadata": {
        "id": "x7gPGjuzNCmL",
        "colab": {
          "base_uri": "https://localhost:8080/",
          "height": 51
        },
        "outputId": "287ce6ea-94dd-461c-8d05-610a7be72db9"
      },
      "source": [
        "# Esb : Modulo resiliente de la sub base\n",
        "\n",
        "Esb = float(input('Ingrese el modulo resiliente de la subbase en Pascales: '))\n",
        "\n",
        "Esb"
      ],
      "execution_count": null,
      "outputs": [
        {
          "output_type": "stream",
          "text": [
            "Ingrese el modulo resiliente de la subbase en Pascales: 50\n"
          ],
          "name": "stdout"
        },
        {
          "output_type": "execute_result",
          "data": {
            "text/plain": [
              "50.0"
            ]
          },
          "metadata": {
            "tags": []
          },
          "execution_count": 5
        }
      ]
    },
    {
      "cell_type": "code",
      "metadata": {
        "id": "n4QHpjvbNDvS",
        "colab": {
          "base_uri": "https://localhost:8080/",
          "height": 34
        },
        "outputId": "d5f1d1eb-efb0-415f-d340-bf276865ff7f"
      },
      "source": [
        "# uf: Daño relativo\n",
        "uf = 1.18 * 10**8 * mr**2.32\n",
        "uf"
      ],
      "execution_count": null,
      "outputs": [
        {
          "output_type": "execute_result",
          "data": {
            "text/plain": [
              "1.1535173692985747e+17"
            ]
          },
          "metadata": {
            "tags": []
          },
          "execution_count": 6
        }
      ]
    },
    {
      "cell_type": "code",
      "metadata": {
        "id": "M12STHiZNIAM"
      },
      "source": [
        "# A continuacion se le solicita al usuario algunos datos que debe conocer previamente y que son necesarios para hallar el K \n",
        "# definitivo que se usara en el diseño del pavimento rigido"
      ],
      "execution_count": null,
      "outputs": []
    },
    {
      "cell_type": "code",
      "metadata": {
        "id": "QSgs0wtNNOCG",
        "colab": {
          "base_uri": "https://localhost:8080/",
          "height": 510
        },
        "outputId": "1f68aef4-318f-4d0a-9fac-d524bfe841dc"
      },
      "source": [
        "resistenciasubbase =float(input('Ingrese la resistencia sub base, selecciona un numero \\n \\n '))\n",
        "modulosubbase =float(input('ingrese modulo de la sub base'))\n",
        "\n",
        "unidadEspesorSubBase = input('Ingrese la unidad para el espesor de la sub base, seleccione un numero \\n \\n 1 centimetros \\n \\n 2 pulgadas  ')\n",
        "if unidadEspesorSubBase == '1':\n",
        "  espesorSubBaseCentimetros = float(input('Ingrese el espesor en centimetros  '))\n",
        "  espesorSubBasePulgadas = espesorSubBaseCentimetros/2.54\n",
        "elif unidadEspesorSubBase == '2':\n",
        "  espesorSubBasePulgadas = float(input('Ingrese el espesor en pulgadas  '))\n",
        "\n",
        "perdidaSoporteLs = float(input('Ingrese el valor de perdida de soporte'))\n",
        "\n",
        "unidadProfundidad = input('Ingrese la unidad para la profundidad a la fundacion rigida, seleccione un numero \\n \\n 1 metros \\n \\n 2 pies  ')\n",
        "if unidadProfundidad == '1':\n",
        "  profundidadMetros = float(input('Ingrese la profundidad en metros  '))\n",
        "  profundidadPies = profundidadMetros*3,28084\n",
        "elif unidadProfundidad == '2':\n",
        "  profundidadPies = float(input('Ingrese la profundidad en pies  '))\n",
        "\n",
        "unidadEspesorLosa = input('Ingrese la unidad para el espesor de la losa, seleccione un numero \\n \\n 1 centimetros \\n \\n 2 pulgadas  ')\n",
        "if unidadEspesorLosa == '1':\n",
        "  espesorLosaCentimetros = float(input('Ingrese el espesor en centimetros  '))\n",
        "  espesorLosaPulgadas = espesorLosaCentimetros/2.54\n",
        "elif unidadEspesorLosa == '2':\n",
        "  espesorLosaPulgadas = float(input('Ingrese el espesor en pulgadas  '))\n",
        "\n",
        "print (resistenciasubbase)\n",
        "print (modulosubbase)\n",
        "print (unidadEspesorSubBase)\n",
        "print (perdidaSoporteLs)\n",
        "print (unidadProfundidad)\n",
        "print (unidadEspesorLosa)"
      ],
      "execution_count": null,
      "outputs": [
        {
          "output_type": "stream",
          "text": [
            "Ingrese la resistencia sub base, selecciona un numero \n",
            " \n",
            " 3\n",
            "ingrese modulo de la sub base3\n",
            "Ingrese la unidad para el espesor de la sub base, seleccione un numero \n",
            " \n",
            " 1 centimetros \n",
            " \n",
            " 2 pulgadas  2\n",
            "Ingrese el espesor en pulgadas  3\n",
            "Ingrese el valor de perdida de soporte4\n",
            "Ingrese la unidad para la profundidad a la fundacion rigida, seleccione un numero \n",
            " \n",
            " 1 metros \n",
            " \n",
            " 2 pies  1\n",
            "Ingrese la profundidad en metros  5\n",
            "Ingrese la unidad para el espesor de la losa, seleccione un numero \n",
            " \n",
            " 1 centimetros \n",
            " \n",
            " 2 pulgadas  2\n",
            "Ingrese el espesor en pulgadas  35\n",
            "3.0\n",
            "3.0\n",
            "2\n",
            "4.0\n",
            "1\n",
            "2\n"
          ],
          "name": "stdout"
        }
      ]
    },
    {
      "cell_type": "code",
      "metadata": {
        "id": "ksz8GIeaNUl3"
      },
      "source": [
        "#Teniendo los datos de mr, Esb, espesor y Ls, proceder a usar las tablas para hallar el K definitivo.\n",
        "#La combinacion de los datos de modulo resiliente de la sub base Esb y del espesor de la sub base y del modulo resiliente de la sub rasante, da como resultado el valor de K combinado"
      ],
      "execution_count": null,
      "outputs": []
    },
    {
      "cell_type": "code",
      "metadata": {
        "id": "ykiRd78dNco-",
        "colab": {
          "base_uri": "https://localhost:8080/",
          "height": 363
        },
        "outputId": "87952901-8d41-499a-fe63-0ac2e59676dd"
      },
      "source": [
        "from google.colab import files\n",
        "from IPython.display import Image\n",
        "uploaded = files.upload()"
      ],
      "execution_count": null,
      "outputs": [
        {
          "output_type": "display_data",
          "data": {
            "text/html": [
              "\n",
              "     <input type=\"file\" id=\"files-5c4a4b1e-02cc-4324-ade3-9199b5e55482\" name=\"files[]\" multiple disabled />\n",
              "     <output id=\"result-5c4a4b1e-02cc-4324-ade3-9199b5e55482\">\n",
              "      Upload widget is only available when the cell has been executed in the\n",
              "      current browser session. Please rerun this cell to enable.\n",
              "      </output>\n",
              "      <script src=\"/nbextensions/google.colab/files.js\"></script> "
            ],
            "text/plain": [
              "<IPython.core.display.HTML object>"
            ]
          },
          "metadata": {
            "tags": []
          }
        },
        {
          "output_type": "error",
          "ename": "MessageError",
          "evalue": "ignored",
          "traceback": [
            "\u001b[0;31m---------------------------------------------------------------------------\u001b[0m",
            "\u001b[0;31mMessageError\u001b[0m                              Traceback (most recent call last)",
            "\u001b[0;32m<ipython-input-11-30d280ed3553>\u001b[0m in \u001b[0;36m<module>\u001b[0;34m()\u001b[0m\n\u001b[1;32m      1\u001b[0m \u001b[0;32mfrom\u001b[0m \u001b[0mgoogle\u001b[0m\u001b[0;34m.\u001b[0m\u001b[0mcolab\u001b[0m \u001b[0;32mimport\u001b[0m \u001b[0mfiles\u001b[0m\u001b[0;34m\u001b[0m\u001b[0;34m\u001b[0m\u001b[0m\n\u001b[1;32m      2\u001b[0m \u001b[0;32mfrom\u001b[0m \u001b[0mIPython\u001b[0m\u001b[0;34m.\u001b[0m\u001b[0mdisplay\u001b[0m \u001b[0;32mimport\u001b[0m \u001b[0mImage\u001b[0m\u001b[0;34m\u001b[0m\u001b[0;34m\u001b[0m\u001b[0m\n\u001b[0;32m----> 3\u001b[0;31m \u001b[0muploaded\u001b[0m \u001b[0;34m=\u001b[0m \u001b[0mfiles\u001b[0m\u001b[0;34m.\u001b[0m\u001b[0mupload\u001b[0m\u001b[0;34m(\u001b[0m\u001b[0;34m)\u001b[0m\u001b[0;34m\u001b[0m\u001b[0;34m\u001b[0m\u001b[0m\n\u001b[0m",
            "\u001b[0;32m/usr/local/lib/python3.6/dist-packages/google/colab/files.py\u001b[0m in \u001b[0;36mupload\u001b[0;34m()\u001b[0m\n\u001b[1;32m     62\u001b[0m   result = _output.eval_js(\n\u001b[1;32m     63\u001b[0m       'google.colab._files._uploadFiles(\"{input_id}\", \"{output_id}\")'.format(\n\u001b[0;32m---> 64\u001b[0;31m           input_id=input_id, output_id=output_id))\n\u001b[0m\u001b[1;32m     65\u001b[0m   \u001b[0mfiles\u001b[0m \u001b[0;34m=\u001b[0m \u001b[0m_collections\u001b[0m\u001b[0;34m.\u001b[0m\u001b[0mdefaultdict\u001b[0m\u001b[0;34m(\u001b[0m\u001b[0m_six\u001b[0m\u001b[0;34m.\u001b[0m\u001b[0mbinary_type\u001b[0m\u001b[0;34m)\u001b[0m\u001b[0;34m\u001b[0m\u001b[0;34m\u001b[0m\u001b[0m\n\u001b[1;32m     66\u001b[0m   \u001b[0;31m# Mapping from original filename to filename as saved locally.\u001b[0m\u001b[0;34m\u001b[0m\u001b[0;34m\u001b[0m\u001b[0;34m\u001b[0m\u001b[0m\n",
            "\u001b[0;32m/usr/local/lib/python3.6/dist-packages/google/colab/output/_js.py\u001b[0m in \u001b[0;36meval_js\u001b[0;34m(script, ignore_result)\u001b[0m\n\u001b[1;32m     37\u001b[0m   \u001b[0;32mif\u001b[0m \u001b[0mignore_result\u001b[0m\u001b[0;34m:\u001b[0m\u001b[0;34m\u001b[0m\u001b[0;34m\u001b[0m\u001b[0m\n\u001b[1;32m     38\u001b[0m     \u001b[0;32mreturn\u001b[0m\u001b[0;34m\u001b[0m\u001b[0;34m\u001b[0m\u001b[0m\n\u001b[0;32m---> 39\u001b[0;31m   \u001b[0;32mreturn\u001b[0m \u001b[0m_message\u001b[0m\u001b[0;34m.\u001b[0m\u001b[0mread_reply_from_input\u001b[0m\u001b[0;34m(\u001b[0m\u001b[0mrequest_id\u001b[0m\u001b[0;34m)\u001b[0m\u001b[0;34m\u001b[0m\u001b[0;34m\u001b[0m\u001b[0m\n\u001b[0m\u001b[1;32m     40\u001b[0m \u001b[0;34m\u001b[0m\u001b[0m\n\u001b[1;32m     41\u001b[0m \u001b[0;34m\u001b[0m\u001b[0m\n",
            "\u001b[0;32m/usr/local/lib/python3.6/dist-packages/google/colab/_message.py\u001b[0m in \u001b[0;36mread_reply_from_input\u001b[0;34m(message_id, timeout_sec)\u001b[0m\n\u001b[1;32m    104\u001b[0m         reply.get('colab_msg_id') == message_id):\n\u001b[1;32m    105\u001b[0m       \u001b[0;32mif\u001b[0m \u001b[0;34m'error'\u001b[0m \u001b[0;32min\u001b[0m \u001b[0mreply\u001b[0m\u001b[0;34m:\u001b[0m\u001b[0;34m\u001b[0m\u001b[0;34m\u001b[0m\u001b[0m\n\u001b[0;32m--> 106\u001b[0;31m         \u001b[0;32mraise\u001b[0m \u001b[0mMessageError\u001b[0m\u001b[0;34m(\u001b[0m\u001b[0mreply\u001b[0m\u001b[0;34m[\u001b[0m\u001b[0;34m'error'\u001b[0m\u001b[0;34m]\u001b[0m\u001b[0;34m)\u001b[0m\u001b[0;34m\u001b[0m\u001b[0;34m\u001b[0m\u001b[0m\n\u001b[0m\u001b[1;32m    107\u001b[0m       \u001b[0;32mreturn\u001b[0m \u001b[0mreply\u001b[0m\u001b[0;34m.\u001b[0m\u001b[0mget\u001b[0m\u001b[0;34m(\u001b[0m\u001b[0;34m'data'\u001b[0m\u001b[0;34m,\u001b[0m \u001b[0;32mNone\u001b[0m\u001b[0;34m)\u001b[0m\u001b[0;34m\u001b[0m\u001b[0;34m\u001b[0m\u001b[0m\n\u001b[1;32m    108\u001b[0m \u001b[0;34m\u001b[0m\u001b[0m\n",
            "\u001b[0;31mMessageError\u001b[0m: TypeError: Cannot read property '_uploadFiles' of undefined"
          ]
        }
      ]
    },
    {
      "cell_type": "code",
      "metadata": {
        "id": "kK3rcnMaNhcb"
      },
      "source": [
        "Image('Tabla 1.PNG')"
      ],
      "execution_count": null,
      "outputs": []
    },
    {
      "cell_type": "code",
      "metadata": {
        "id": "js9DsdjuNy4z"
      },
      "source": [
        "from google.colab import files\n",
        "from IPython.display import Image\n",
        "uploaded = files.upload()"
      ],
      "execution_count": null,
      "outputs": []
    },
    {
      "cell_type": "code",
      "metadata": {
        "id": "IW0bp_xNN4F4"
      },
      "source": [
        "#Ahora Se estima el espesor de losa requerida (es decir, un espesor de losa proyectado) y con la Tabla 2 se determina el daño relativo en función de k."
      ],
      "execution_count": null,
      "outputs": []
    },
    {
      "cell_type": "code",
      "metadata": {
        "id": "cXOsy_LTOIA3"
      },
      "source": [
        "Image('Tabla 2.PNG')"
      ],
      "execution_count": null,
      "outputs": []
    },
    {
      "cell_type": "code",
      "metadata": {
        "id": "xGPOqyrXONcD"
      },
      "source": [
        "from google.colab import files\n",
        "from IPython.display import Image\n",
        "uploaded = files.upload()"
      ],
      "execution_count": null,
      "outputs": []
    },
    {
      "cell_type": "code",
      "metadata": {
        "id": "0hZHvPeJOTWL"
      },
      "source": [
        "#Se ajusta el valor efectivo de k para tener en cuenta la pérdida de soporte de la subbase, LS, por erosión. Este ajuste se hace por medio de la tabla 3. Con este valor calculado se procede al diseño del pavimento rígido. "
      ],
      "execution_count": null,
      "outputs": []
    },
    {
      "cell_type": "code",
      "metadata": {
        "id": "cTsV5T83Okd9"
      },
      "source": [
        "Image('Tabla 3.PNG')"
      ],
      "execution_count": null,
      "outputs": []
    },
    {
      "cell_type": "code",
      "metadata": {
        "id": "NQVdBfkTOqav"
      },
      "source": [
        "# A continuacion damos otra forma de hallar el valor de K a partir de Mr, es bueno comparar con los valores obtenidos de las graficas\n",
        "# k : coeficiente de soporte\n",
        "# mr : modulo reciliente\n",
        "\n",
        "k = mr/0.4993 # kPa/m\n",
        "\n",
        "k = mr/19.4 # psi/in\n",
        "\n",
        "k"
      ],
      "execution_count": null,
      "outputs": []
    },
    {
      "cell_type": "code",
      "metadata": {
        "id": "GxJVjVF0OvnR"
      },
      "source": [
        "# Para el calculo del pavimento rigido se deben calcular las siguientes variables:\n",
        "\n",
        "# W18 = número de cargas de 18 kips (80 KN) previstas\n",
        "# ZR = abscisa correspondiente a un área igual a la confiabilidad R en la curva de distribución normalizada\n",
        "# S0 = desvío estándar de todas las variables\n",
        "# D = espesor de la losa del pavimento, en pulg.\n",
        "# ∆PSI = pérdida de serviciabilidad prevista en el diseño\n",
        "# pt = serviciabilidad final\n",
        "# SC' = módulo de rotura del hormigón, en psi\n",
        "# J = coeficiente de transferencia de cargas\n",
        "# Cd = coeficiente de drenaje\n",
        "# Ec = módulo de elasticidad del hormigón, en psi\n",
        "# K = módulo de reacción de la subrasante (coeficiente de balasto), en psi/pulg"
      ],
      "execution_count": null,
      "outputs": []
    },
    {
      "cell_type": "code",
      "metadata": {
        "id": "djtevyhpPA-e"
      },
      "source": [
        "# para encontrar W18\n",
        "\n",
        "import math\n",
        "\n",
        "r = float(input('Ingrese la tasa de crecimiento  '))\n",
        "\n",
        "listaTPD = [float(input(f'Ingrese el valor {i + 1} del tpd  ')) for i in range(2)]\n",
        "\n",
        "listaA = [float(input(f'Ingrese el valor {i + 1} de A  ')) for i in range(2)]\n",
        "\n",
        "listaB = [1.00, 0.90, 0.70, 0.40, 0.90, 0.70]\n",
        "\n",
        "lista_n = [float(input(f'Ingrese el valor {i + 1} de n  ')) for i in range(2)]\n",
        "\n",
        "listaFECE = [float(input(f'Ingrese el valor {i + 1} del FECE  ')) for i in range(2)]\n",
        "\n",
        "\n",
        "def w18(TPD, A, B, r, n, FECE):  \n",
        "  return TPD*0.55*B*365+(((1+r)**n)-1/math.log(1+r))*FECE\n",
        "  \n",
        "listaW18=[]\n",
        "for i in range(2):\n",
        "  listaW18.append(w18(listaTPD[i], listaA[i], listaB[i], r, lista_n[i], listaFECE[i]))\n",
        "\n",
        "listaW18"
      ],
      "execution_count": null,
      "outputs": []
    },
    {
      "cell_type": "code",
      "metadata": {
        "id": "K4fC9B4oPQ7T"
      },
      "source": [
        "#Desviacion estandar\n",
        "\n",
        "condicionDiseño = input('Tiene el pavimento errores de transito \\n\\n Ingrese S o N  ')\n",
        "condicionDiseño.lower()\n",
        "\n",
        "desviacion = 0.34\n",
        "if condicionDiseño == 's':\n",
        "  desviacion = 0.39\n",
        "\n",
        "  \n",
        "\n",
        "valoresConfiabilidad = {50:0, 60:0.253, 70:0.524, 75:0.674, 80:0.841, 85:1.037, 90:1.282, 91:1.34, 92:1.405, \n",
        "                 93:1.476, 94:1.555, 95:1.645, 96:1.751, 97:1.881, 98:2.054, 99:2.327, 99.9:3.09, 99.99:3.75}\n",
        "\n",
        "tipoCamino = input('Seleccione un numero dependiendo de el tipo de camino \\n \\n 1 Rutas interestatales y autopista \\n\\n 2 Arterias principales \\n\\n 3 Colectoras \\n\\n 4 Locales  ')\n",
        "if tipoCamino == '1':\n",
        "  valorConfiabilidad = float(input(f'Ingrese uno de estos valores de confiabilidad \\n 85 \\n 90 \\n 91 \\n 92 \\n 93 \\n 94 \\n 95 \\n 96 \\n 97 \\n 98 \\n 99 \\n 99.9 \\n 99.99  '))\n",
        "elif tipoCamino == '2':\n",
        "  valorConfiabilidad = float(input(f'Ingrese uno de estos valores de confiabilidad \\n 80 \\n 85 \\n 90 \\n 91 \\n 92 \\n 93 \\n 94 \\n 95 \\n 96 \\n 97 \\n 98 \\n 99 \\n 99.9 \\n 99.99  '))\n",
        "elif tipoCamino == '3':\n",
        "  valorConfiabilidad = float(input(f'Ingrese uno de estos valores de confiabilidad \\n 80 \\n 85 \\n 90 \\n 91 \\n 92 \\n 93 \\n 94 \\n 95  '))\n",
        "elif tipoCamino == '4':\n",
        "  valorConfiabilidad = float(input(f'Ingrese uno de estos valores de confiabilidad \\n 50 \\n 60 \\n 70 \\n 75 \\n 80  '))\n",
        "\n",
        "zr = valoresConfiabilidad[valorConfiabilidad]\n",
        "\n",
        "\n",
        "nt = float(input('Ingrese las toneladas que va a soportar la via'))\n",
        "\n",
        "esals = math.log(nt) + zr*desviacion\n",
        "esals"
      ],
      "execution_count": null,
      "outputs": []
    },
    {
      "cell_type": "code",
      "metadata": {
        "id": "hL2lr37uPbot"
      },
      "source": [
        "#∆PSI = pérdida de serviciabilidad prevista en el diseño\n",
        "# po: Serviciabilidad inicial\n",
        "# pt: Serviciabilidad final:  \n",
        "po = float(input('Ingrese la serviciavilidad inicial'))\n",
        "pt = float(input('Ingrese la serviciavilidad final'))\n",
        "psi = po - pt\n",
        "psi"
      ],
      "execution_count": null,
      "outputs": []
    },
    {
      "cell_type": "code",
      "metadata": {
        "id": "K1QrvOGLPgjY"
      },
      "source": [
        "# sc: Modulo de rotura del concreto\n",
        "k = float(input('Ingrese un valor entre 7 y 12'))\n",
        "fc = float (input ('ingrese el valor de la resistencia a la compresión del concreto'))\n",
        "\n",
        "sc = k*fc**0.5\n",
        "sc"
      ],
      "execution_count": null,
      "outputs": []
    },
    {
      "cell_type": "code",
      "metadata": {
        "id": "Aih7PKeRPlJz"
      },
      "source": [
        "# j: coeficiente de transferencia de cargas\n",
        "\n",
        "tipoBerma = input('Seleccione un numero dependiendo del tipo de berma \\n \\n 1 Berna de Asfalto \\n \\n 2 Berna de Ho Vinculada  ')\n",
        "if tipoBerma == '1':\n",
        "  disponeTransferencia = input('Dispone de transferencia, responda S o N  ')\n",
        "  disponeTransferencia.lower()\n",
        "  if disponeTransferencia == 's':\n",
        "    tipoPavimento = input('Seleccione un numero dependiendo del tipo de pavimento \\n \\n 1 Junta Sencilla y Junta Reforzada \\n \\n 2 Continuamente Reforzada  ')\n",
        "    if tipoPavimento == '1':\n",
        "      j = 3.2\n",
        "    elif tipoPavimento == '2':\n",
        "      j = float(input('Ingrese un valor entre 2.9 y 3.2  '))\n",
        "  elif disponeTransferencia == 'n':\n",
        "    j = float(input('Ingrese un valor entre 3.8 y 4.4  '))      \n",
        "elif tipoBerma == '2':\n",
        "  disponeTransferencia = input('Dispone de transferencia, responda S o N  ')\n",
        "  disponeTransferencia.lower()\n",
        "  if disponeTransferencia == 's':\n",
        "    tipoPavimento = input('Seleccione un numero dependiendo del tipo de pavimento \\n \\n 1 Junta Sencilla y Junta Reforzada \\n \\n 2 Continuamente Reforzada  ')\n",
        "    if tipoPavimento == '1':\n",
        "      j = float(input('Ingrese un valor entre 2.5 y 3.1  '))\n",
        "    elif tipoPavimento == '2':\n",
        "      j = float(input('Ingrese un valor entre 2.3 y 2.9  '))\n",
        "  elif disponeTransferencia == 'n':\n",
        "    j = float(input('Ingrese un valor entre 3.6 y 4.2  '))\n",
        "\n",
        "j"
      ],
      "execution_count": null,
      "outputs": []
    },
    {
      "cell_type": "code",
      "metadata": {
        "id": "AzwfGeVTPrkK"
      },
      "source": [
        "#cd: Coeficiente de drenaje\n",
        "cd = float(input('Ingrese un valor entre 0.70 y 1.25'))"
      ],
      "execution_count": null,
      "outputs": []
    },
    {
      "cell_type": "code",
      "metadata": {
        "id": "wTyyjXsePxOj"
      },
      "source": [
        "# ec = módulo elástico del hormigón (psi)\n",
        "# fc = resistencia a la compresión simple del hormigón (psi) \n",
        "\n",
        "unidadFc = input('En que unidad va a ingresar fc, seleccione un numero \\n \\n 1 psi \\n \\n 2 KPa ')\n",
        "if unidadFc == '1':\n",
        "  fc = float(input('Ingrese los psi'))\n",
        "  ec = 57000*fc**0.5\n",
        "elif unidadFc == '2':\n",
        "  fc = float(input('Ingrese los KPa'))\n",
        "  ec = 150000 * fc**0.5\n",
        "ec"
      ],
      "execution_count": null,
      "outputs": []
    },
    {
      "cell_type": "code",
      "metadata": {
        "id": "TxHlIc0zP1Oc"
      },
      "source": [
        "# fr: módulo de rotura o resistencia a la tracción\n",
        "k = float(input('Ingrese un valor entre 7 y 12'))\n",
        "fr = k * fc\n",
        "fr"
      ],
      "execution_count": null,
      "outputs": []
    },
    {
      "cell_type": "code",
      "metadata": {
        "id": "MNmEMJWTP7g_"
      },
      "source": [
        "# D = espesor losa pavimento\n",
        "#Para hallar el espesor de la losa D se debe tener todos los datos calcuados y empezar a operar con las tablas 4, 5 y 6 tal como se muestra, para hallar ese espesor D "
      ],
      "execution_count": null,
      "outputs": []
    },
    {
      "cell_type": "code",
      "metadata": {
        "id": "pxPdIFlRQAiH"
      },
      "source": [
        "from google.colab import files\n",
        "from IPython.display import Image\n",
        "uploaded = files.upload()"
      ],
      "execution_count": null,
      "outputs": []
    },
    {
      "cell_type": "code",
      "metadata": {
        "id": "aT7lFYShQErE"
      },
      "source": [
        "Image('Tabla 4.PNG')"
      ],
      "execution_count": null,
      "outputs": []
    },
    {
      "cell_type": "code",
      "metadata": {
        "id": "w7NKDQArRaR2"
      },
      "source": [
        "from google.colab import files\n",
        "from IPython.display import Image\n",
        "uploaded = files.upload()"
      ],
      "execution_count": null,
      "outputs": []
    },
    {
      "cell_type": "code",
      "metadata": {
        "id": "D2xNBFEuR0W4"
      },
      "source": [
        "Image('Tabla 5.PNG')"
      ],
      "execution_count": null,
      "outputs": []
    },
    {
      "cell_type": "code",
      "metadata": {
        "id": "YN2dmap4SQey"
      },
      "source": [
        "from google.colab import files\n",
        "from IPython.display import Image\n",
        "uploaded = files.upload()"
      ],
      "execution_count": null,
      "outputs": []
    },
    {
      "cell_type": "code",
      "metadata": {
        "id": "4SL5HY3mSYv6"
      },
      "source": [
        "Image('Tabla 6.PNG')"
      ],
      "execution_count": null,
      "outputs": []
    },
    {
      "cell_type": "code",
      "metadata": {
        "id": "br7Ovx92SiUS"
      },
      "source": [
        "#Aahora se calculan algunos datos de la armadura longitudinal del hormigon de la losa."
      ],
      "execution_count": null,
      "outputs": []
    },
    {
      "cell_type": "code",
      "metadata": {
        "id": "yagPEfHxSjxL"
      },
      "source": [
        "unidadMedidaLosa = input('En que unidad deseas ingresar la longitud de la losa, selecione un numero \\n \\n 1 metros \\n \\n 2 pies  ')\n",
        "if unidadMedidaLosa == '1':\n",
        "  longitudLosa = float(input('Ingrese la cantidad de metros  '))\n",
        "  longitudLosa = 3.28084*longitudLosa\n",
        "elif unidadMedidaLosa == '2':\n",
        "  longitudLosa = float(input('Ingrese la cantidad de pies '))\n",
        "  \n",
        "\n",
        "unidadTension = input('En que unidad deseas ingresar la unidad de presion, seleccione un numero \\n \\n 1 pascales \\n \\n 2 psi  ')\n",
        "if unidadTension == '1':\n",
        "  presion = float(input('Ingrese los pascales  '))\n",
        "  presion = presion*0.000145038\n",
        "elif unidadTension == '2':\n",
        "  presion = float(input('Ingrese los psi  '))\n",
        "  \n",
        "\n",
        "factorFriccion = float(input('Ingrese la friccion  '))\n",
        "\n",
        "p = longitudLosa * factorFriccion/(2 * presion) *100\n",
        "\n",
        "p"
      ],
      "execution_count": null,
      "outputs": []
    },
    {
      "cell_type": "code",
      "metadata": {
        "id": "Sj30oSVpS1wN"
      },
      "source": [
        "#lef: Factor equivalente de carga\n",
        "#nEsals: Numero de Esals de 80 KN que produicen una perdida de serviciabilidad\n",
        "#nejes: Numero de ejes x KN que producen la misma perdida de serviciabilidad\n",
        "\n",
        "nEsals = float(input('Ingrese el numero de Esals de 80 KN que produicen una perdida de serviciabilidad  '))\n",
        "nEjes = float(input('Ingrese el numero de ejes x KN que producen la misma perdida de serviciabilidad  '))\n",
        "\n",
        "lef = nEsals/nEjes\n",
        "lef"
      ],
      "execution_count": null,
      "outputs": []
    }
  ]
}